{
  "nbformat": 4,
  "nbformat_minor": 0,
  "metadata": {
    "colab": {
      "provenance": [],
      "authorship_tag": "ABX9TyORYh4V9tY0UfeMuMqBHHFH",
      "include_colab_link": true
    },
    "kernelspec": {
      "name": "python3",
      "display_name": "Python 3"
    },
    "language_info": {
      "name": "python"
    }
  },
  "cells": [
    {
      "cell_type": "markdown",
      "metadata": {
        "id": "view-in-github",
        "colab_type": "text"
      },
      "source": [
        "<a href=\"https://colab.research.google.com/github/singamsettiajay/abc/blob/main/npl1.ipynb\" target=\"_parent\"><img src=\"https://colab.research.google.com/assets/colab-badge.svg\" alt=\"Open In Colab\"/></a>"
      ]
    },
    {
      "cell_type": "code",
      "execution_count": 1,
      "metadata": {
        "colab": {
          "base_uri": "https://localhost:8080/"
        },
        "id": "AcTFOZ-RGdyk",
        "outputId": "e7c3256c-8e6f-4e6e-fb88-9e2a845b0b0f"
      },
      "outputs": [
        {
          "output_type": "stream",
          "name": "stdout",
          "text": [
            "This day is beautiful insta good photo of the day cute\n"
          ]
        }
      ],
      "source": [
        " import re\n",
        "raw_text=\"This day is beautiful! #insta good #photo of the day #cute\"\n",
        "processed_text=re.sub(r'[\\#\\!]',\"\",raw_text)\n",
        "print(processed_text)"
      ]
    }
  ]
}